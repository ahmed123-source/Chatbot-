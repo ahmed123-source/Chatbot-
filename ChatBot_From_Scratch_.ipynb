{
  "nbformat": 4,
  "nbformat_minor": 0,
  "metadata": {
    "colab": {
      "provenance": [],
      "collapsed_sections": []
    },
    "kernelspec": {
      "name": "python3",
      "display_name": "Python 3"
    },
    "language_info": {
      "name": "python"
    }
  },
  "cells": [
    {
      "cell_type": "code",
      "execution_count": null,
      "metadata": {
        "id": "ScoIW1BVlNfO"
      },
      "outputs": [],
      "source": [
        "import nltk\n",
        "import tensorflow as tf\n",
        "import pandas as pd\n",
        "import json \n",
        "from tensorflow.keras.preprocessing .text import Tokenizer\n",
        "from tensorflow.keras.layers import Input, Embedding, LSTM, Dense, GlobalMaxPooling1D , Flatten\n",
        "from tensorflow.keras.models import Model"
      ]
    },
    {
      "cell_type": "code",
      "source": [
        "%%writefile content.json\n",
        "{\"intents\": [\n",
        "        {\"tag\": \"greeting\",\n",
        "         \"patterns\": [\"Hi\", \"How are you\", \"Is anyone there?\", \"Hello\", \"Good day\"],\n",
        "         \"responses\": [\"Hello, thanks for visiting\", \"Good to see you again\", \"Hi there, how can I help?\"],\n",
        "         \"context_set\": \"\"\n",
        "        },\n",
        "        {\"tag\": \"goodbye\",\n",
        "         \"patterns\": [\"Bye\", \"See you later\", \"Goodbye\"],\n",
        "         \"responses\": [\"See you later, thanks for visiting\", \"Have a nice day\", \"Bye! Come back again soon.\"]\n",
        "        },\n",
        "        {\"tag\": \"thanks\",\n",
        "         \"patterns\": [\"Thanks\", \"Thank you\", \"That's helpful\"],\n",
        "         \"responses\": [\"Happy to help!\", \"Any time!\", \"My pleasure\"]\n",
        "        },\n",
        "        {\"tag\": \"hours\",\n",
        "         \"patterns\": [\"What hours are you open?\", \"What are your hours?\", \"When are you open?\" ],\n",
        "         \"responses\": [\"We're open every day 9am-9pm\", \"Our hours are 9am-9pm every day\"]\n",
        "        },\n",
        "        {\"tag\": \"location\",\n",
        "         \"patterns\": [\"What is your location?\", \"Where are you located?\", \"What is your address?\", \"Where is your restaurant situated?\" ],\n",
        "         \"responses\": [\"We are on the intersection of London Alley and Bridge Avenue.\", \"We are situated at the intersection of London Alley and Bridge Avenue\", \"Our Address is: 1000 Bridge Avenue, London EC3N 4AJ, UK\"]\n",
        "        },\n",
        "        {\"tag\": \"payments\",\n",
        "         \"patterns\": [\"Do you take credit cards?\", \"Do you accept Mastercard?\", \"Are you cash only?\" ],\n",
        "         \"responses\": [\"We accept VISA, Mastercard and AMEX\", \"We accept most major credit cards\"]\n",
        "        },\n",
        "        {\"tag\": \"todaysmenu\",\n",
        "         \"patterns\": [\"What is your menu for today?\", \"What are you serving today?\", \"What is today's special?\"],\n",
        "         \"responses\": [\"Today's special is Chicken Tikka\", \"Our speciality for today is Chicken Tikka\"]\n",
        "        },\n",
        "        {\"tag\": \"deliveryoption\",\n",
        "         \"patterns\": [\"Do you provide home delivery?\", \"Do you deliver the food?\", \"What are the home delivery options?\" ],\n",
        "         \"responses\": [\"Yes, we provide home delivery through UBER Eats and Zomato?\", \"We have home delivery options through UBER Eats and Zomato\"],\n",
        "         \"context_set\": \"food\"\n",
        "        },\n",
        "        {\"tag\": \"menu\",\n",
        "         \"patterns\": [\"What is your Menu?\", \"What are the main course options?\", \"Can you tell me the most delicious dish from the menu?\", \"What is the today's special?\"],\n",
        "         \"responses\": [\"You can visit www.mymenu.com for menu options\", \"You can check out the food menu at www.mymenu.com\", \"You can check various delicacies given in the food menu at www.mymenu.com\"],\n",
        "         \"context_filter\": \"food\"\n",
        "        }\n",
        "   ]\n",
        "}\n"
      ],
      "metadata": {
        "colab": {
          "base_uri": "https://localhost:8080/"
        },
        "id": "bnqijagkz4WI",
        "outputId": "4c78c918-c1cc-4dd1-8963-17de042d7574"
      },
      "execution_count": null,
      "outputs": [
        {
          "output_type": "stream",
          "name": "stdout",
          "text": [
            "Writing content.json\n"
          ]
        }
      ]
    },
    {
      "cell_type": "code",
      "source": [
        "#importing the dataset\n",
        "with open(\"content.json\") as content:\n",
        "  data1= json.load(content)\n",
        "type(data1)"
      ],
      "metadata": {
        "colab": {
          "base_uri": "https://localhost:8080/"
        },
        "id": "Ey46bueG2iXe",
        "outputId": "92424b8b-78ce-4f5a-c691-7715ecb8aa37"
      },
      "execution_count": null,
      "outputs": [
        {
          "output_type": "execute_result",
          "data": {
            "text/plain": [
              "dict"
            ]
          },
          "metadata": {},
          "execution_count": 4
        }
      ]
    },
    {
      "cell_type": "code",
      "source": [
        "#getting all the data to lists\n",
        "tags=[]\n",
        "inputs=[]\n",
        "responses={}\n",
        "for intent  in data1[\"intents\"]:\n",
        "  responses[intent[\"tag\"]]=intent[\"responses\"]\n",
        "  for line in intent[\"patterns\"]:\n",
        "    inputs.append(line)\n",
        "    tags.append(intent[\"tag\"])\n",
        "len(inputs)"
      ],
      "metadata": {
        "colab": {
          "base_uri": "https://localhost:8080/"
        },
        "id": "VkdkzVJA8SDg",
        "outputId": "94b62cfe-1554-4d13-ff34-e037dcba176f"
      },
      "execution_count": null,
      "outputs": [
        {
          "output_type": "execute_result",
          "data": {
            "text/plain": [
              "31"
            ]
          },
          "metadata": {},
          "execution_count": 5
        }
      ]
    },
    {
      "cell_type": "code",
      "source": [
        "#convert to dataframe\n",
        "data=pd.DataFrame({\"inputs\":inputs\n",
        "              ,\"tags\":tags})"
      ],
      "metadata": {
        "id": "w3eckvRR-_Ex"
      },
      "execution_count": null,
      "outputs": []
    },
    {
      "cell_type": "code",
      "source": [
        "#preprocessing\n",
        "#remove punctuation\n",
        "import string\n",
        "data[\"inputs\"]=data[\"inputs\"].apply(lambda wrd:[ltrs.lower() for ltrs in wrd if ltrs not in string.punctuation])\n",
        "data[\"inputs\"]=data[\"inputs\"].apply(lambda wrd:\"\".join(wrd))"
      ],
      "metadata": {
        "id": "YMQyhnuT_Q6c"
      },
      "execution_count": null,
      "outputs": []
    },
    {
      "cell_type": "code",
      "source": [
        "data.head()"
      ],
      "metadata": {
        "colab": {
          "base_uri": "https://localhost:8080/",
          "height": 206
        },
        "id": "7lpRnkPaGY4z",
        "outputId": "d2a41b5f-cf86-4e0a-f079-9436cd266e66"
      },
      "execution_count": null,
      "outputs": [
        {
          "output_type": "execute_result",
          "data": {
            "text/plain": [
              "            inputs      tags\n",
              "0               hi  greeting\n",
              "1      how are you  greeting\n",
              "2  is anyone there  greeting\n",
              "3            hello  greeting\n",
              "4         good day  greeting"
            ],
            "text/html": [
              "\n",
              "  <div id=\"df-1dd3da42-af75-42ba-938d-c733fd0984ae\">\n",
              "    <div class=\"colab-df-container\">\n",
              "      <div>\n",
              "<style scoped>\n",
              "    .dataframe tbody tr th:only-of-type {\n",
              "        vertical-align: middle;\n",
              "    }\n",
              "\n",
              "    .dataframe tbody tr th {\n",
              "        vertical-align: top;\n",
              "    }\n",
              "\n",
              "    .dataframe thead th {\n",
              "        text-align: right;\n",
              "    }\n",
              "</style>\n",
              "<table border=\"1\" class=\"dataframe\">\n",
              "  <thead>\n",
              "    <tr style=\"text-align: right;\">\n",
              "      <th></th>\n",
              "      <th>inputs</th>\n",
              "      <th>tags</th>\n",
              "    </tr>\n",
              "  </thead>\n",
              "  <tbody>\n",
              "    <tr>\n",
              "      <th>0</th>\n",
              "      <td>hi</td>\n",
              "      <td>greeting</td>\n",
              "    </tr>\n",
              "    <tr>\n",
              "      <th>1</th>\n",
              "      <td>how are you</td>\n",
              "      <td>greeting</td>\n",
              "    </tr>\n",
              "    <tr>\n",
              "      <th>2</th>\n",
              "      <td>is anyone there</td>\n",
              "      <td>greeting</td>\n",
              "    </tr>\n",
              "    <tr>\n",
              "      <th>3</th>\n",
              "      <td>hello</td>\n",
              "      <td>greeting</td>\n",
              "    </tr>\n",
              "    <tr>\n",
              "      <th>4</th>\n",
              "      <td>good day</td>\n",
              "      <td>greeting</td>\n",
              "    </tr>\n",
              "  </tbody>\n",
              "</table>\n",
              "</div>\n",
              "      <button class=\"colab-df-convert\" onclick=\"convertToInteractive('df-1dd3da42-af75-42ba-938d-c733fd0984ae')\"\n",
              "              title=\"Convert this dataframe to an interactive table.\"\n",
              "              style=\"display:none;\">\n",
              "        \n",
              "  <svg xmlns=\"http://www.w3.org/2000/svg\" height=\"24px\"viewBox=\"0 0 24 24\"\n",
              "       width=\"24px\">\n",
              "    <path d=\"M0 0h24v24H0V0z\" fill=\"none\"/>\n",
              "    <path d=\"M18.56 5.44l.94 2.06.94-2.06 2.06-.94-2.06-.94-.94-2.06-.94 2.06-2.06.94zm-11 1L8.5 8.5l.94-2.06 2.06-.94-2.06-.94L8.5 2.5l-.94 2.06-2.06.94zm10 10l.94 2.06.94-2.06 2.06-.94-2.06-.94-.94-2.06-.94 2.06-2.06.94z\"/><path d=\"M17.41 7.96l-1.37-1.37c-.4-.4-.92-.59-1.43-.59-.52 0-1.04.2-1.43.59L10.3 9.45l-7.72 7.72c-.78.78-.78 2.05 0 2.83L4 21.41c.39.39.9.59 1.41.59.51 0 1.02-.2 1.41-.59l7.78-7.78 2.81-2.81c.8-.78.8-2.07 0-2.86zM5.41 20L4 18.59l7.72-7.72 1.47 1.35L5.41 20z\"/>\n",
              "  </svg>\n",
              "      </button>\n",
              "      \n",
              "  <style>\n",
              "    .colab-df-container {\n",
              "      display:flex;\n",
              "      flex-wrap:wrap;\n",
              "      gap: 12px;\n",
              "    }\n",
              "\n",
              "    .colab-df-convert {\n",
              "      background-color: #E8F0FE;\n",
              "      border: none;\n",
              "      border-radius: 50%;\n",
              "      cursor: pointer;\n",
              "      display: none;\n",
              "      fill: #1967D2;\n",
              "      height: 32px;\n",
              "      padding: 0 0 0 0;\n",
              "      width: 32px;\n",
              "    }\n",
              "\n",
              "    .colab-df-convert:hover {\n",
              "      background-color: #E2EBFA;\n",
              "      box-shadow: 0px 1px 2px rgba(60, 64, 67, 0.3), 0px 1px 3px 1px rgba(60, 64, 67, 0.15);\n",
              "      fill: #174EA6;\n",
              "    }\n",
              "\n",
              "    [theme=dark] .colab-df-convert {\n",
              "      background-color: #3B4455;\n",
              "      fill: #D2E3FC;\n",
              "    }\n",
              "\n",
              "    [theme=dark] .colab-df-convert:hover {\n",
              "      background-color: #434B5C;\n",
              "      box-shadow: 0px 1px 3px 1px rgba(0, 0, 0, 0.15);\n",
              "      filter: drop-shadow(0px 1px 2px rgba(0, 0, 0, 0.3));\n",
              "      fill: #FFFFFF;\n",
              "    }\n",
              "  </style>\n",
              "\n",
              "      <script>\n",
              "        const buttonEl =\n",
              "          document.querySelector('#df-1dd3da42-af75-42ba-938d-c733fd0984ae button.colab-df-convert');\n",
              "        buttonEl.style.display =\n",
              "          google.colab.kernel.accessAllowed ? 'block' : 'none';\n",
              "\n",
              "        async function convertToInteractive(key) {\n",
              "          const element = document.querySelector('#df-1dd3da42-af75-42ba-938d-c733fd0984ae');\n",
              "          const dataTable =\n",
              "            await google.colab.kernel.invokeFunction('convertToInteractive',\n",
              "                                                     [key], {});\n",
              "          if (!dataTable) return;\n",
              "\n",
              "          const docLinkHtml = 'Like what you see? Visit the ' +\n",
              "            '<a target=\"_blank\" href=https://colab.research.google.com/notebooks/data_table.ipynb>data table notebook</a>'\n",
              "            + ' to learn more about interactive tables.';\n",
              "          element.innerHTML = '';\n",
              "          dataTable['output_type'] = 'display_data';\n",
              "          await google.colab.output.renderOutput(dataTable, element);\n",
              "          const docLink = document.createElement('div');\n",
              "          docLink.innerHTML = docLinkHtml;\n",
              "          element.appendChild(docLink);\n",
              "        }\n",
              "      </script>\n",
              "    </div>\n",
              "  </div>\n",
              "  "
            ]
          },
          "metadata": {},
          "execution_count": 8
        }
      ]
    },
    {
      "cell_type": "code",
      "source": [
        "#tokenize the data\n",
        "tokenizer=Tokenizer(num_words=2000)\n",
        "tokenizer.fit_on_texts(data[\"inputs\"])\n",
        "train=tokenizer.texts_to_sequences(data[\"inputs\"])\n",
        "#apply padding\n",
        "from tensorflow.keras.preprocessing.sequence import pad_sequences\n",
        "x_train=pad_sequences(train)\n",
        "#encoding the tagsS\n",
        "from sklearn.preprocessing import LabelEncoder\n",
        "le=LabelEncoder()\n",
        "y_train=le.fit_transform(data[\"tags\"])\n",
        "y_train"
      ],
      "metadata": {
        "colab": {
          "base_uri": "https://localhost:8080/"
        },
        "id": "im32CdzhG7ed",
        "outputId": "25011104-b2c6-42d9-b056-06a93a349c83"
      },
      "execution_count": null,
      "outputs": [
        {
          "output_type": "execute_result",
          "data": {
            "text/plain": [
              "array([2, 2, 2, 2, 2, 1, 1, 1, 7, 7, 7, 3, 3, 3, 4, 4, 4, 4, 6, 6, 6, 8,\n",
              "       8, 8, 0, 0, 0, 5, 5, 5, 5])"
            ]
          },
          "metadata": {},
          "execution_count": 13
        }
      ]
    },
    {
      "cell_type": "code",
      "source": [
        "input_shape=x_train.shape[1]\n",
        "input_shape\n",
        "x_train"
      ],
      "metadata": {
        "colab": {
          "base_uri": "https://localhost:8080/"
        },
        "id": "jEz0lNS9MZ5I",
        "outputId": "181105c0-8e7a-46d1-8327-35b20eaf0533"
      },
      "execution_count": null,
      "outputs": [
        {
          "output_type": "execute_result",
          "data": {
            "text/plain": [
              "array([[ 0,  0,  0,  0,  0,  0,  0,  0,  0,  0, 18],\n",
              "       [ 0,  0,  0,  0,  0,  0,  0,  0, 19,  3,  1],\n",
              "       [ 0,  0,  0,  0,  0,  0,  0,  0,  4, 20, 21],\n",
              "       [ 0,  0,  0,  0,  0,  0,  0,  0,  0,  0, 22],\n",
              "       [ 0,  0,  0,  0,  0,  0,  0,  0,  0, 23, 24],\n",
              "       [ 0,  0,  0,  0,  0,  0,  0,  0,  0,  0, 25],\n",
              "       [ 0,  0,  0,  0,  0,  0,  0,  0, 26,  1, 27],\n",
              "       [ 0,  0,  0,  0,  0,  0,  0,  0,  0,  0, 28],\n",
              "       [ 0,  0,  0,  0,  0,  0,  0,  0,  0,  0, 29],\n",
              "       [ 0,  0,  0,  0,  0,  0,  0,  0,  0, 30,  1],\n",
              "       [ 0,  0,  0,  0,  0,  0,  0,  0,  0, 31, 32],\n",
              "       [ 0,  0,  0,  0,  0,  0,  2,  9,  3,  1, 10],\n",
              "       [ 0,  0,  0,  0,  0,  0,  0,  2,  3,  5,  9],\n",
              "       [ 0,  0,  0,  0,  0,  0,  0, 33,  3,  1, 10],\n",
              "       [ 0,  0,  0,  0,  0,  0,  0,  2,  4,  5, 34],\n",
              "       [ 0,  0,  0,  0,  0,  0,  0, 11,  3,  1, 35],\n",
              "       [ 0,  0,  0,  0,  0,  0,  0,  2,  4,  5, 36],\n",
              "       [ 0,  0,  0,  0,  0,  0, 11,  4,  5, 37, 38],\n",
              "       [ 0,  0,  0,  0,  0,  0,  7,  1, 39, 40, 41],\n",
              "       [ 0,  0,  0,  0,  0,  0,  0,  7,  1, 42, 43],\n",
              "       [ 0,  0,  0,  0,  0,  0,  0,  3,  1, 44, 45],\n",
              "       [ 0,  0,  0,  0,  0,  2,  4,  5,  8, 46, 12],\n",
              "       [ 0,  0,  0,  0,  0,  0,  2,  3,  1, 47, 12],\n",
              "       [ 0,  0,  0,  0,  0,  0,  0,  2,  4, 13, 14],\n",
              "       [ 0,  0,  0,  0,  0,  0,  7,  1, 48, 15, 16],\n",
              "       [ 0,  0,  0,  0,  0,  0,  7,  1, 49,  6, 50],\n",
              "       [ 0,  0,  0,  0,  0,  2,  3,  6, 15, 16, 17],\n",
              "       [ 0,  0,  0,  0,  0,  0,  0,  2,  4,  5,  8],\n",
              "       [ 0,  0,  0,  0,  0,  2,  3,  6, 51, 52, 17],\n",
              "       [53,  1, 54, 55,  6, 56, 57, 58, 59,  6,  8],\n",
              "       [ 0,  0,  0,  0,  0,  0,  2,  4,  6, 13, 14]], dtype=int32)"
            ]
          },
          "metadata": {},
          "execution_count": 14
        }
      ]
    },
    {
      "cell_type": "code",
      "source": [
        "#define vocabulary\n",
        "tokenizer.word_index\n",
        "#dictionnaire{mot:son code(token)} contient l'ensemble des mots qui construisent ttes les phrases de l'input\n",
        "vocabulary=len(tokenizer.word_index)\n",
        "print(\"number of unique words is: \",vocabulary)\n",
        "le.classes_\n",
        "#liste des classes d'output  (tag:greeting, goodbye,thanks...)\n",
        "output_length=le.classes_.shape[0]\n",
        "print('output length: ',output_length)"
      ],
      "metadata": {
        "colab": {
          "base_uri": "https://localhost:8080/"
        },
        "id": "QHnZXm7HQacD",
        "outputId": "84693630-3754-4fda-bb12-3485875e9bf3"
      },
      "execution_count": null,
      "outputs": [
        {
          "output_type": "stream",
          "name": "stdout",
          "text": [
            "number of unique words is:  59\n",
            "output length:  9\n"
          ]
        }
      ]
    },
    {
      "cell_type": "code",
      "source": [
        "#creating the model\n",
        "i=Input(shape=(input_shape,))\n",
        "x=Embedding(vocabulary+1,10)(i)\n",
        "x=LSTM(10,return_sequences=True)(x)\n",
        "x=Flatten()(x)\n",
        "x=Dense(output_length,activation=\"softmax\")(x)\n",
        "model=Model(i,x)"
      ],
      "metadata": {
        "id": "gUqubdCHSCTo"
      },
      "execution_count": null,
      "outputs": []
    },
    {
      "cell_type": "code",
      "source": [
        "#compiling Model\n",
        "model.compile(loss=\"sparse_categorical_crossentropy\",optimizer=\"adam\",metrics=[\"accuracy\"])"
      ],
      "metadata": {
        "id": "QP6xFvhlY8-Y"
      },
      "execution_count": null,
      "outputs": []
    },
    {
      "cell_type": "code",
      "source": [
        "#trainig the model \n",
        "model_train=model.fit(x_train,y_train,epochs=200)"
      ],
      "metadata": {
        "colab": {
          "base_uri": "https://localhost:8080/"
        },
        "id": "gCf2yowdal8Q",
        "outputId": "a7f9fba1-37c2-497d-bca8-729cd87404f8"
      },
      "execution_count": null,
      "outputs": [
        {
          "output_type": "stream",
          "name": "stdout",
          "text": [
            "Epoch 1/200\n",
            "1/1 [==============================] - 2s 2s/step - loss: 2.1998 - accuracy: 0.0968\n",
            "Epoch 2/200\n",
            "1/1 [==============================] - 0s 17ms/step - loss: 2.1985 - accuracy: 0.0968\n",
            "Epoch 3/200\n",
            "1/1 [==============================] - 0s 17ms/step - loss: 2.1973 - accuracy: 0.1935\n",
            "Epoch 4/200\n",
            "1/1 [==============================] - 0s 15ms/step - loss: 2.1960 - accuracy: 0.1613\n",
            "Epoch 5/200\n",
            "1/1 [==============================] - 0s 17ms/step - loss: 2.1948 - accuracy: 0.1613\n",
            "Epoch 6/200\n",
            "1/1 [==============================] - 0s 19ms/step - loss: 2.1936 - accuracy: 0.1613\n",
            "Epoch 7/200\n",
            "1/1 [==============================] - 0s 22ms/step - loss: 2.1924 - accuracy: 0.1290\n",
            "Epoch 8/200\n",
            "1/1 [==============================] - 0s 19ms/step - loss: 2.1912 - accuracy: 0.2258\n",
            "Epoch 9/200\n",
            "1/1 [==============================] - 0s 19ms/step - loss: 2.1899 - accuracy: 0.2581\n",
            "Epoch 10/200\n",
            "1/1 [==============================] - 0s 14ms/step - loss: 2.1887 - accuracy: 0.2581\n",
            "Epoch 11/200\n",
            "1/1 [==============================] - 0s 15ms/step - loss: 2.1874 - accuracy: 0.2581\n",
            "Epoch 12/200\n",
            "1/1 [==============================] - 0s 14ms/step - loss: 2.1862 - accuracy: 0.2258\n",
            "Epoch 13/200\n",
            "1/1 [==============================] - 0s 23ms/step - loss: 2.1848 - accuracy: 0.2258\n",
            "Epoch 14/200\n",
            "1/1 [==============================] - 0s 16ms/step - loss: 2.1835 - accuracy: 0.2581\n",
            "Epoch 15/200\n",
            "1/1 [==============================] - 0s 14ms/step - loss: 2.1821 - accuracy: 0.2903\n",
            "Epoch 16/200\n",
            "1/1 [==============================] - 0s 18ms/step - loss: 2.1807 - accuracy: 0.2581\n",
            "Epoch 17/200\n",
            "1/1 [==============================] - 0s 15ms/step - loss: 2.1792 - accuracy: 0.2581\n",
            "Epoch 18/200\n",
            "1/1 [==============================] - 0s 16ms/step - loss: 2.1777 - accuracy: 0.2581\n",
            "Epoch 19/200\n",
            "1/1 [==============================] - 0s 15ms/step - loss: 2.1761 - accuracy: 0.2581\n",
            "Epoch 20/200\n",
            "1/1 [==============================] - 0s 17ms/step - loss: 2.1744 - accuracy: 0.2581\n",
            "Epoch 21/200\n",
            "1/1 [==============================] - 0s 13ms/step - loss: 2.1727 - accuracy: 0.2581\n",
            "Epoch 22/200\n",
            "1/1 [==============================] - 0s 14ms/step - loss: 2.1709 - accuracy: 0.2903\n",
            "Epoch 23/200\n",
            "1/1 [==============================] - 0s 14ms/step - loss: 2.1691 - accuracy: 0.2903\n",
            "Epoch 24/200\n",
            "1/1 [==============================] - 0s 17ms/step - loss: 2.1672 - accuracy: 0.2903\n",
            "Epoch 25/200\n",
            "1/1 [==============================] - 0s 16ms/step - loss: 2.1652 - accuracy: 0.3226\n",
            "Epoch 26/200\n",
            "1/1 [==============================] - 0s 19ms/step - loss: 2.1631 - accuracy: 0.3226\n",
            "Epoch 27/200\n",
            "1/1 [==============================] - 0s 19ms/step - loss: 2.1609 - accuracy: 0.3226\n",
            "Epoch 28/200\n",
            "1/1 [==============================] - 0s 15ms/step - loss: 2.1586 - accuracy: 0.3226\n",
            "Epoch 29/200\n",
            "1/1 [==============================] - 0s 14ms/step - loss: 2.1563 - accuracy: 0.3226\n",
            "Epoch 30/200\n",
            "1/1 [==============================] - 0s 15ms/step - loss: 2.1538 - accuracy: 0.3226\n",
            "Epoch 31/200\n",
            "1/1 [==============================] - 0s 14ms/step - loss: 2.1512 - accuracy: 0.3226\n",
            "Epoch 32/200\n",
            "1/1 [==============================] - 0s 14ms/step - loss: 2.1485 - accuracy: 0.3226\n",
            "Epoch 33/200\n",
            "1/1 [==============================] - 0s 19ms/step - loss: 2.1457 - accuracy: 0.3226\n",
            "Epoch 34/200\n",
            "1/1 [==============================] - 0s 24ms/step - loss: 2.1428 - accuracy: 0.3226\n",
            "Epoch 35/200\n",
            "1/1 [==============================] - 0s 17ms/step - loss: 2.1398 - accuracy: 0.3226\n",
            "Epoch 36/200\n",
            "1/1 [==============================] - 0s 15ms/step - loss: 2.1366 - accuracy: 0.3226\n",
            "Epoch 37/200\n",
            "1/1 [==============================] - 0s 20ms/step - loss: 2.1333 - accuracy: 0.2903\n",
            "Epoch 38/200\n",
            "1/1 [==============================] - 0s 17ms/step - loss: 2.1298 - accuracy: 0.2903\n",
            "Epoch 39/200\n",
            "1/1 [==============================] - 0s 19ms/step - loss: 2.1262 - accuracy: 0.2903\n",
            "Epoch 40/200\n",
            "1/1 [==============================] - 0s 15ms/step - loss: 2.1224 - accuracy: 0.2903\n",
            "Epoch 41/200\n",
            "1/1 [==============================] - 0s 16ms/step - loss: 2.1184 - accuracy: 0.2903\n",
            "Epoch 42/200\n",
            "1/1 [==============================] - 0s 15ms/step - loss: 2.1143 - accuracy: 0.2581\n",
            "Epoch 43/200\n",
            "1/1 [==============================] - 0s 13ms/step - loss: 2.1100 - accuracy: 0.2258\n",
            "Epoch 44/200\n",
            "1/1 [==============================] - 0s 18ms/step - loss: 2.1055 - accuracy: 0.2258\n",
            "Epoch 45/200\n",
            "1/1 [==============================] - 0s 19ms/step - loss: 2.1007 - accuracy: 0.2258\n",
            "Epoch 46/200\n",
            "1/1 [==============================] - 0s 15ms/step - loss: 2.0958 - accuracy: 0.1935\n",
            "Epoch 47/200\n",
            "1/1 [==============================] - 0s 21ms/step - loss: 2.0906 - accuracy: 0.1935\n",
            "Epoch 48/200\n",
            "1/1 [==============================] - 0s 15ms/step - loss: 2.0852 - accuracy: 0.1935\n",
            "Epoch 49/200\n",
            "1/1 [==============================] - 0s 17ms/step - loss: 2.0795 - accuracy: 0.1935\n",
            "Epoch 50/200\n",
            "1/1 [==============================] - 0s 13ms/step - loss: 2.0736 - accuracy: 0.1935\n",
            "Epoch 51/200\n",
            "1/1 [==============================] - 0s 13ms/step - loss: 2.0674 - accuracy: 0.1935\n",
            "Epoch 52/200\n",
            "1/1 [==============================] - 0s 16ms/step - loss: 2.0609 - accuracy: 0.1935\n",
            "Epoch 53/200\n",
            "1/1 [==============================] - 0s 17ms/step - loss: 2.0541 - accuracy: 0.1935\n",
            "Epoch 54/200\n",
            "1/1 [==============================] - 0s 18ms/step - loss: 2.0471 - accuracy: 0.1935\n",
            "Epoch 55/200\n",
            "1/1 [==============================] - 0s 20ms/step - loss: 2.0397 - accuracy: 0.1935\n",
            "Epoch 56/200\n",
            "1/1 [==============================] - 0s 18ms/step - loss: 2.0320 - accuracy: 0.1935\n",
            "Epoch 57/200\n",
            "1/1 [==============================] - 0s 17ms/step - loss: 2.0240 - accuracy: 0.1935\n",
            "Epoch 58/200\n",
            "1/1 [==============================] - 0s 15ms/step - loss: 2.0156 - accuracy: 0.1935\n",
            "Epoch 59/200\n",
            "1/1 [==============================] - 0s 15ms/step - loss: 2.0070 - accuracy: 0.1935\n",
            "Epoch 60/200\n",
            "1/1 [==============================] - 0s 15ms/step - loss: 1.9980 - accuracy: 0.1935\n",
            "Epoch 61/200\n",
            "1/1 [==============================] - 0s 14ms/step - loss: 1.9887 - accuracy: 0.1935\n",
            "Epoch 62/200\n",
            "1/1 [==============================] - 0s 24ms/step - loss: 1.9791 - accuracy: 0.1935\n",
            "Epoch 63/200\n",
            "1/1 [==============================] - 0s 12ms/step - loss: 1.9691 - accuracy: 0.1935\n",
            "Epoch 64/200\n",
            "1/1 [==============================] - 0s 16ms/step - loss: 1.9588 - accuracy: 0.1935\n",
            "Epoch 65/200\n",
            "1/1 [==============================] - 0s 15ms/step - loss: 1.9482 - accuracy: 0.1935\n",
            "Epoch 66/200\n",
            "1/1 [==============================] - 0s 15ms/step - loss: 1.9373 - accuracy: 0.2258\n",
            "Epoch 67/200\n",
            "1/1 [==============================] - 0s 16ms/step - loss: 1.9261 - accuracy: 0.2258\n",
            "Epoch 68/200\n",
            "1/1 [==============================] - 0s 20ms/step - loss: 1.9146 - accuracy: 0.2258\n",
            "Epoch 69/200\n",
            "1/1 [==============================] - 0s 13ms/step - loss: 1.9028 - accuracy: 0.2581\n",
            "Epoch 70/200\n",
            "1/1 [==============================] - 0s 15ms/step - loss: 1.8908 - accuracy: 0.2581\n",
            "Epoch 71/200\n",
            "1/1 [==============================] - 0s 12ms/step - loss: 1.8785 - accuracy: 0.2581\n",
            "Epoch 72/200\n",
            "1/1 [==============================] - 0s 13ms/step - loss: 1.8659 - accuracy: 0.2581\n",
            "Epoch 73/200\n",
            "1/1 [==============================] - 0s 13ms/step - loss: 1.8530 - accuracy: 0.2581\n",
            "Epoch 74/200\n",
            "1/1 [==============================] - 0s 19ms/step - loss: 1.8400 - accuracy: 0.3226\n",
            "Epoch 75/200\n",
            "1/1 [==============================] - 0s 13ms/step - loss: 1.8267 - accuracy: 0.3226\n",
            "Epoch 76/200\n",
            "1/1 [==============================] - 0s 18ms/step - loss: 1.8132 - accuracy: 0.3226\n",
            "Epoch 77/200\n",
            "1/1 [==============================] - 0s 12ms/step - loss: 1.7995 - accuracy: 0.3226\n",
            "Epoch 78/200\n",
            "1/1 [==============================] - 0s 11ms/step - loss: 1.7857 - accuracy: 0.3226\n",
            "Epoch 79/200\n",
            "1/1 [==============================] - 0s 13ms/step - loss: 1.7717 - accuracy: 0.3226\n",
            "Epoch 80/200\n",
            "1/1 [==============================] - 0s 20ms/step - loss: 1.7575 - accuracy: 0.3226\n",
            "Epoch 81/200\n",
            "1/1 [==============================] - 0s 17ms/step - loss: 1.7433 - accuracy: 0.3226\n",
            "Epoch 82/200\n",
            "1/1 [==============================] - 0s 19ms/step - loss: 1.7289 - accuracy: 0.3548\n",
            "Epoch 83/200\n",
            "1/1 [==============================] - 0s 18ms/step - loss: 1.7145 - accuracy: 0.3548\n",
            "Epoch 84/200\n",
            "1/1 [==============================] - 0s 21ms/step - loss: 1.7000 - accuracy: 0.3548\n",
            "Epoch 85/200\n",
            "1/1 [==============================] - 0s 16ms/step - loss: 1.6856 - accuracy: 0.3548\n",
            "Epoch 86/200\n",
            "1/1 [==============================] - 0s 14ms/step - loss: 1.6711 - accuracy: 0.3871\n",
            "Epoch 87/200\n",
            "1/1 [==============================] - 0s 15ms/step - loss: 1.6567 - accuracy: 0.3871\n",
            "Epoch 88/200\n",
            "1/1 [==============================] - 0s 13ms/step - loss: 1.6425 - accuracy: 0.4194\n",
            "Epoch 89/200\n",
            "1/1 [==============================] - 0s 14ms/step - loss: 1.6283 - accuracy: 0.4194\n",
            "Epoch 90/200\n",
            "1/1 [==============================] - 0s 13ms/step - loss: 1.6142 - accuracy: 0.4194\n",
            "Epoch 91/200\n",
            "1/1 [==============================] - 0s 13ms/step - loss: 1.6004 - accuracy: 0.4194\n",
            "Epoch 92/200\n",
            "1/1 [==============================] - 0s 14ms/step - loss: 1.5868 - accuracy: 0.4194\n",
            "Epoch 93/200\n",
            "1/1 [==============================] - 0s 13ms/step - loss: 1.5733 - accuracy: 0.4194\n",
            "Epoch 94/200\n",
            "1/1 [==============================] - 0s 13ms/step - loss: 1.5602 - accuracy: 0.4194\n",
            "Epoch 95/200\n",
            "1/1 [==============================] - 0s 14ms/step - loss: 1.5472 - accuracy: 0.4516\n",
            "Epoch 96/200\n",
            "1/1 [==============================] - 0s 14ms/step - loss: 1.5346 - accuracy: 0.4516\n",
            "Epoch 97/200\n",
            "1/1 [==============================] - 0s 13ms/step - loss: 1.5222 - accuracy: 0.4516\n",
            "Epoch 98/200\n",
            "1/1 [==============================] - 0s 15ms/step - loss: 1.5102 - accuracy: 0.4516\n",
            "Epoch 99/200\n",
            "1/1 [==============================] - 0s 14ms/step - loss: 1.4984 - accuracy: 0.4516\n",
            "Epoch 100/200\n",
            "1/1 [==============================] - 0s 20ms/step - loss: 1.4868 - accuracy: 0.4516\n",
            "Epoch 101/200\n",
            "1/1 [==============================] - 0s 14ms/step - loss: 1.4756 - accuracy: 0.4516\n",
            "Epoch 102/200\n",
            "1/1 [==============================] - 0s 13ms/step - loss: 1.4646 - accuracy: 0.4516\n",
            "Epoch 103/200\n",
            "1/1 [==============================] - 0s 13ms/step - loss: 1.4538 - accuracy: 0.4516\n",
            "Epoch 104/200\n",
            "1/1 [==============================] - 0s 14ms/step - loss: 1.4433 - accuracy: 0.4839\n",
            "Epoch 105/200\n",
            "1/1 [==============================] - 0s 14ms/step - loss: 1.4331 - accuracy: 0.4839\n",
            "Epoch 106/200\n",
            "1/1 [==============================] - 0s 14ms/step - loss: 1.4230 - accuracy: 0.4839\n",
            "Epoch 107/200\n",
            "1/1 [==============================] - 0s 14ms/step - loss: 1.4132 - accuracy: 0.5161\n",
            "Epoch 108/200\n",
            "1/1 [==============================] - 0s 21ms/step - loss: 1.4036 - accuracy: 0.5161\n",
            "Epoch 109/200\n",
            "1/1 [==============================] - 0s 16ms/step - loss: 1.3943 - accuracy: 0.5161\n",
            "Epoch 110/200\n",
            "1/1 [==============================] - 0s 16ms/step - loss: 1.3851 - accuracy: 0.5161\n",
            "Epoch 111/200\n",
            "1/1 [==============================] - 0s 15ms/step - loss: 1.3761 - accuracy: 0.5161\n",
            "Epoch 112/200\n",
            "1/1 [==============================] - 0s 23ms/step - loss: 1.3673 - accuracy: 0.5161\n",
            "Epoch 113/200\n",
            "1/1 [==============================] - 0s 22ms/step - loss: 1.3586 - accuracy: 0.5161\n",
            "Epoch 114/200\n",
            "1/1 [==============================] - 0s 24ms/step - loss: 1.3501 - accuracy: 0.5161\n",
            "Epoch 115/200\n",
            "1/1 [==============================] - 0s 30ms/step - loss: 1.3418 - accuracy: 0.5161\n",
            "Epoch 116/200\n",
            "1/1 [==============================] - 0s 17ms/step - loss: 1.3336 - accuracy: 0.5161\n",
            "Epoch 117/200\n",
            "1/1 [==============================] - 0s 29ms/step - loss: 1.3256 - accuracy: 0.5161\n",
            "Epoch 118/200\n",
            "1/1 [==============================] - 0s 25ms/step - loss: 1.3177 - accuracy: 0.5161\n",
            "Epoch 119/200\n",
            "1/1 [==============================] - 0s 16ms/step - loss: 1.3099 - accuracy: 0.5161\n",
            "Epoch 120/200\n",
            "1/1 [==============================] - 0s 14ms/step - loss: 1.3022 - accuracy: 0.5161\n",
            "Epoch 121/200\n",
            "1/1 [==============================] - 0s 19ms/step - loss: 1.2947 - accuracy: 0.5161\n",
            "Epoch 122/200\n",
            "1/1 [==============================] - 0s 16ms/step - loss: 1.2873 - accuracy: 0.5161\n",
            "Epoch 123/200\n",
            "1/1 [==============================] - 0s 11ms/step - loss: 1.2799 - accuracy: 0.5484\n",
            "Epoch 124/200\n",
            "1/1 [==============================] - 0s 16ms/step - loss: 1.2726 - accuracy: 0.5484\n",
            "Epoch 125/200\n",
            "1/1 [==============================] - 0s 13ms/step - loss: 1.2654 - accuracy: 0.5484\n",
            "Epoch 126/200\n",
            "1/1 [==============================] - 0s 18ms/step - loss: 1.2583 - accuracy: 0.5484\n",
            "Epoch 127/200\n",
            "1/1 [==============================] - 0s 16ms/step - loss: 1.2513 - accuracy: 0.5484\n",
            "Epoch 128/200\n",
            "1/1 [==============================] - 0s 14ms/step - loss: 1.2443 - accuracy: 0.5484\n",
            "Epoch 129/200\n",
            "1/1 [==============================] - 0s 17ms/step - loss: 1.2373 - accuracy: 0.5484\n",
            "Epoch 130/200\n",
            "1/1 [==============================] - 0s 14ms/step - loss: 1.2304 - accuracy: 0.5484\n",
            "Epoch 131/200\n",
            "1/1 [==============================] - 0s 16ms/step - loss: 1.2235 - accuracy: 0.5484\n",
            "Epoch 132/200\n",
            "1/1 [==============================] - 0s 14ms/step - loss: 1.2166 - accuracy: 0.5484\n",
            "Epoch 133/200\n",
            "1/1 [==============================] - 0s 19ms/step - loss: 1.2097 - accuracy: 0.5484\n",
            "Epoch 134/200\n",
            "1/1 [==============================] - 0s 18ms/step - loss: 1.2029 - accuracy: 0.5484\n",
            "Epoch 135/200\n",
            "1/1 [==============================] - 0s 23ms/step - loss: 1.1961 - accuracy: 0.5484\n",
            "Epoch 136/200\n",
            "1/1 [==============================] - 0s 17ms/step - loss: 1.1893 - accuracy: 0.5484\n",
            "Epoch 137/200\n",
            "1/1 [==============================] - 0s 19ms/step - loss: 1.1825 - accuracy: 0.5806\n",
            "Epoch 138/200\n",
            "1/1 [==============================] - 0s 19ms/step - loss: 1.1757 - accuracy: 0.5806\n",
            "Epoch 139/200\n",
            "1/1 [==============================] - 0s 14ms/step - loss: 1.1689 - accuracy: 0.5806\n",
            "Epoch 140/200\n",
            "1/1 [==============================] - 0s 13ms/step - loss: 1.1620 - accuracy: 0.5806\n",
            "Epoch 141/200\n",
            "1/1 [==============================] - 0s 13ms/step - loss: 1.1552 - accuracy: 0.5806\n",
            "Epoch 142/200\n",
            "1/1 [==============================] - 0s 16ms/step - loss: 1.1483 - accuracy: 0.6129\n",
            "Epoch 143/200\n",
            "1/1 [==============================] - 0s 15ms/step - loss: 1.1415 - accuracy: 0.6129\n",
            "Epoch 144/200\n",
            "1/1 [==============================] - 0s 14ms/step - loss: 1.1346 - accuracy: 0.6129\n",
            "Epoch 145/200\n",
            "1/1 [==============================] - 0s 13ms/step - loss: 1.1277 - accuracy: 0.6129\n",
            "Epoch 146/200\n",
            "1/1 [==============================] - 0s 13ms/step - loss: 1.1207 - accuracy: 0.6129\n",
            "Epoch 147/200\n",
            "1/1 [==============================] - 0s 13ms/step - loss: 1.1138 - accuracy: 0.6129\n",
            "Epoch 148/200\n",
            "1/1 [==============================] - 0s 13ms/step - loss: 1.1068 - accuracy: 0.6129\n",
            "Epoch 149/200\n",
            "1/1 [==============================] - 0s 13ms/step - loss: 1.0998 - accuracy: 0.6452\n",
            "Epoch 150/200\n",
            "1/1 [==============================] - 0s 14ms/step - loss: 1.0927 - accuracy: 0.6452\n",
            "Epoch 151/200\n",
            "1/1 [==============================] - 0s 14ms/step - loss: 1.0857 - accuracy: 0.6452\n",
            "Epoch 152/200\n",
            "1/1 [==============================] - 0s 13ms/step - loss: 1.0786 - accuracy: 0.6452\n",
            "Epoch 153/200\n",
            "1/1 [==============================] - 0s 14ms/step - loss: 1.0714 - accuracy: 0.6452\n",
            "Epoch 154/200\n",
            "1/1 [==============================] - 0s 15ms/step - loss: 1.0643 - accuracy: 0.6774\n",
            "Epoch 155/200\n",
            "1/1 [==============================] - 0s 15ms/step - loss: 1.0571 - accuracy: 0.6774\n",
            "Epoch 156/200\n",
            "1/1 [==============================] - 0s 15ms/step - loss: 1.0499 - accuracy: 0.6774\n",
            "Epoch 157/200\n",
            "1/1 [==============================] - 0s 15ms/step - loss: 1.0426 - accuracy: 0.7097\n",
            "Epoch 158/200\n",
            "1/1 [==============================] - 0s 22ms/step - loss: 1.0354 - accuracy: 0.7097\n",
            "Epoch 159/200\n",
            "1/1 [==============================] - 0s 20ms/step - loss: 1.0281 - accuracy: 0.7097\n",
            "Epoch 160/200\n",
            "1/1 [==============================] - 0s 18ms/step - loss: 1.0208 - accuracy: 0.7097\n",
            "Epoch 161/200\n",
            "1/1 [==============================] - 0s 20ms/step - loss: 1.0134 - accuracy: 0.7097\n",
            "Epoch 162/200\n",
            "1/1 [==============================] - 0s 21ms/step - loss: 1.0061 - accuracy: 0.7097\n",
            "Epoch 163/200\n",
            "1/1 [==============================] - 0s 19ms/step - loss: 0.9987 - accuracy: 0.7097\n",
            "Epoch 164/200\n",
            "1/1 [==============================] - 0s 18ms/step - loss: 0.9913 - accuracy: 0.7097\n",
            "Epoch 165/200\n",
            "1/1 [==============================] - 0s 14ms/step - loss: 0.9839 - accuracy: 0.7097\n",
            "Epoch 166/200\n",
            "1/1 [==============================] - 0s 30ms/step - loss: 0.9765 - accuracy: 0.7419\n",
            "Epoch 167/200\n",
            "1/1 [==============================] - 0s 21ms/step - loss: 0.9691 - accuracy: 0.7419\n",
            "Epoch 168/200\n",
            "1/1 [==============================] - 0s 18ms/step - loss: 0.9617 - accuracy: 0.7419\n",
            "Epoch 169/200\n",
            "1/1 [==============================] - 0s 12ms/step - loss: 0.9542 - accuracy: 0.7419\n",
            "Epoch 170/200\n",
            "1/1 [==============================] - 0s 12ms/step - loss: 0.9468 - accuracy: 0.7419\n",
            "Epoch 171/200\n",
            "1/1 [==============================] - 0s 15ms/step - loss: 0.9394 - accuracy: 0.7419\n",
            "Epoch 172/200\n",
            "1/1 [==============================] - 0s 15ms/step - loss: 0.9320 - accuracy: 0.7419\n",
            "Epoch 173/200\n",
            "1/1 [==============================] - 0s 12ms/step - loss: 0.9246 - accuracy: 0.7419\n",
            "Epoch 174/200\n",
            "1/1 [==============================] - 0s 12ms/step - loss: 0.9172 - accuracy: 0.7419\n",
            "Epoch 175/200\n",
            "1/1 [==============================] - 0s 17ms/step - loss: 0.9098 - accuracy: 0.7419\n",
            "Epoch 176/200\n",
            "1/1 [==============================] - 0s 12ms/step - loss: 0.9025 - accuracy: 0.7419\n",
            "Epoch 177/200\n",
            "1/1 [==============================] - 0s 13ms/step - loss: 0.8951 - accuracy: 0.7419\n",
            "Epoch 178/200\n",
            "1/1 [==============================] - 0s 13ms/step - loss: 0.8878 - accuracy: 0.7742\n",
            "Epoch 179/200\n",
            "1/1 [==============================] - 0s 13ms/step - loss: 0.8805 - accuracy: 0.7742\n",
            "Epoch 180/200\n",
            "1/1 [==============================] - 0s 13ms/step - loss: 0.8732 - accuracy: 0.7742\n",
            "Epoch 181/200\n",
            "1/1 [==============================] - 0s 13ms/step - loss: 0.8660 - accuracy: 0.7742\n",
            "Epoch 182/200\n",
            "1/1 [==============================] - 0s 16ms/step - loss: 0.8588 - accuracy: 0.7742\n",
            "Epoch 183/200\n",
            "1/1 [==============================] - 0s 13ms/step - loss: 0.8516 - accuracy: 0.7742\n",
            "Epoch 184/200\n",
            "1/1 [==============================] - 0s 17ms/step - loss: 0.8445 - accuracy: 0.8065\n",
            "Epoch 185/200\n",
            "1/1 [==============================] - 0s 14ms/step - loss: 0.8374 - accuracy: 0.8387\n",
            "Epoch 186/200\n",
            "1/1 [==============================] - 0s 18ms/step - loss: 0.8303 - accuracy: 0.8387\n",
            "Epoch 187/200\n",
            "1/1 [==============================] - 0s 14ms/step - loss: 0.8233 - accuracy: 0.8387\n",
            "Epoch 188/200\n",
            "1/1 [==============================] - 0s 14ms/step - loss: 0.8163 - accuracy: 0.8387\n",
            "Epoch 189/200\n",
            "1/1 [==============================] - 0s 14ms/step - loss: 0.8093 - accuracy: 0.8387\n",
            "Epoch 190/200\n",
            "1/1 [==============================] - 0s 35ms/step - loss: 0.8024 - accuracy: 0.8387\n",
            "Epoch 191/200\n",
            "1/1 [==============================] - 0s 17ms/step - loss: 0.7956 - accuracy: 0.8065\n",
            "Epoch 192/200\n",
            "1/1 [==============================] - 0s 13ms/step - loss: 0.7888 - accuracy: 0.8065\n",
            "Epoch 193/200\n",
            "1/1 [==============================] - 0s 18ms/step - loss: 0.7820 - accuracy: 0.8065\n",
            "Epoch 194/200\n",
            "1/1 [==============================] - 0s 24ms/step - loss: 0.7752 - accuracy: 0.8065\n",
            "Epoch 195/200\n",
            "1/1 [==============================] - 0s 15ms/step - loss: 0.7686 - accuracy: 0.8065\n",
            "Epoch 196/200\n",
            "1/1 [==============================] - 0s 13ms/step - loss: 0.7619 - accuracy: 0.8387\n",
            "Epoch 197/200\n",
            "1/1 [==============================] - 0s 15ms/step - loss: 0.7553 - accuracy: 0.8387\n",
            "Epoch 198/200\n",
            "1/1 [==============================] - 0s 23ms/step - loss: 0.7488 - accuracy: 0.8710\n",
            "Epoch 199/200\n",
            "1/1 [==============================] - 0s 18ms/step - loss: 0.7423 - accuracy: 0.8710\n",
            "Epoch 200/200\n",
            "1/1 [==============================] - 0s 17ms/step - loss: 0.7358 - accuracy: 0.8710\n"
          ]
        }
      ]
    },
    {
      "cell_type": "code",
      "source": [
        "#plotting model accuracy\n",
        "import matplotlib.pyplot as plt\n",
        "plt.plot(model_train.history[\"accuracy\"],label=\"training set accuracy\")\n",
        "plt.plot(model_train.history[\"loss\"],label=\"training set loss\")\n",
        "plt.legend()\n"
      ],
      "metadata": {
        "colab": {
          "base_uri": "https://localhost:8080/",
          "height": 282
        },
        "id": "x1yMdLNvbZDH",
        "outputId": "1c708f43-c8b3-434b-e325-ee20ae86f02b"
      },
      "execution_count": null,
      "outputs": [
        {
          "output_type": "execute_result",
          "data": {
            "text/plain": [
              "<matplotlib.legend.Legend at 0x7f7768dd5750>"
            ]
          },
          "metadata": {},
          "execution_count": 17
        },
        {
          "output_type": "display_data",
          "data": {
            "text/plain": [
              "<Figure size 432x288 with 1 Axes>"
            ],
            "image/png": "[encoded data removed]"
          },
          "metadata": {
            "needs_background": "light"
          }
        }
      ]
    },
    {
      "cell_type": "code",
      "source": [
        "#chatting\n",
        "import random\n",
        "import numpy as np\n",
        "\n",
        "\n",
        "while True:\n",
        "  texts_p=[]\n",
        "  prediction_input=input(\"You: \")\n",
        "  #removing puntuation and convert to lowercase\n",
        "  prediction_input=[letters.lower() for letters in prediction_input if letters not in string.punctuation]\n",
        "  prediction_input=\"\".join(prediction_input)\n",
        "  texts_p.append(prediction_input)\n",
        "  #tokenizing and padding\n",
        "  prediction_input= tokenizer.texts_to_sequences(texts_p)\n",
        "  prediction_input=np.array(prediction_input).reshape(-1)\n",
        "  prediction_input=pad_sequences([prediction_input],input_shape)\n",
        "  #getting output from model\n",
        "  output=model.predict(prediction_input)\n",
        "  output=output.argmax()\n",
        "  #finding the right tag and predicting\n",
        "  response_tag=le.inverse_transform([output])[0]\n",
        "  print(\"Bohmiid: \",random.choice(responses[response_tag]))\n",
        "  if response_tag ==\"goodbye\":\n",
        "    break\n",
        "print(prediction_input)\n",
        "\n"
      ],
      "metadata": {
        "colab": {
          "base_uri": "https://localhost:8080/"
        },
        "id": "PJ8nYMpSfYT5",
        "outputId": "766fa081-19e5-4aff-8681-b4d76328cc2b"
      },
      "execution_count": null,
      "outputs": [
        {
          "output_type": "stream",
          "name": "stdout",
          "text": [
            "You: bye\n",
            "Bohmiid:  See you later, thanks for visiting\n",
            "[[ 0  0  0  0  0  0  0  0  0  0 25]]\n"
          ]
        }
      ]
    },
    {
      "cell_type": "code",
      "source": [
        "model.summary()"
      ],
      "metadata": {
        "colab": {
          "base_uri": "https://localhost:8080/"
        },
        "id": "HCzEyrG3nAAN",
        "outputId": "8c3b7189-712a-4bdd-e90b-a781758717f9"
      },
      "execution_count": null,
      "outputs": [
        {
          "output_type": "stream",
          "name": "stdout",
          "text": [
            "Model: \"model\"\n",
            "_________________________________________________________________\n",
            " Layer (type)                Output Shape              Param #   \n",
            "=================================================================\n",
            " input_1 (InputLayer)        [(None, 11)]              0         \n",
            "                                                                 \n",
            " embedding (Embedding)       (None, 11, 10)            600       \n",
            "                                                                 \n",
            " lstm (LSTM)                 (None, 11, 10)            840       \n",
            "                                                                 \n",
            " flatten (Flatten)           (None, 110)               0         \n",
            "                                                                 \n",
            " dense (Dense)               (None, 9)                 999       \n",
            "                                                                 \n",
            "=================================================================\n",
            "Total params: 2,439\n",
            "Trainable params: 2,439\n",
            "Non-trainable params: 0\n",
            "_________________________________________________________________\n"
          ]
        }
      ]
    },
    {
      "cell_type": "code",
      "source": [
        "from tkinter import *"
      ],
      "metadata": {
        "id": "7EWHQSEpzOSS"
      },
      "execution_count": null,
      "outputs": []
    },
    {
      "cell_type": "code",
      "source": [
        "from flask import Flask\n",
        "app=Flask(__name__)\n",
        "@app.route(\"/\")\n",
        "def hello():\n",
        "    return \"hello word\"\n"
      ],
      "metadata": {
        "id": "77GkCJja3Sc4"
      },
      "execution_count": null,
      "outputs": []
    },
    {
      "cell_type": "code",
      "source": [
        "from joblib import dump,load"
      ],
      "metadata": {
        "id": "62i8M3HdGIjd"
      },
      "execution_count": null,
      "outputs": []
    },
    {
      "cell_type": "code",
      "source": [
        "model_in=load(\"model.joblib\")"
      ],
      "metadata": {
        "id": "p1nw9hAOi31v"
      },
      "execution_count": null,
      "outputs": []
    },
    {
      "cell_type": "code",
      "source": [
        "model_in.predict(np.array([[ 0 , 0 , 0 , 0  ,0 , 0 , 0,  0 , 0 , 0 ,25]]))"
      ],
      "metadata": {
        "colab": {
          "base_uri": "https://localhost:8080/"
        },
        "id": "ZrYq3XJWjF2S",
        "outputId": "e68850ac-7cf1-42c3-81f8-ad3f407e3ebf"
      },
      "execution_count": null,
      "outputs": [
        {
          "output_type": "execute_result",
          "data": {
            "text/plain": [
              "array([[2.6050436e-03, 4.8148888e-01, 2.5065404e-01, 4.9223669e-04,\n",
              "        2.1423118e-03, 3.4304458e-04, 7.9711396e-03, 2.5066698e-01,\n",
              "        3.6362263e-03]], dtype=float32)"
            ]
          },
          "metadata": {},
          "execution_count": 46
        }
      ]
    },
    {
      "cell_type": "code",
      "source": [
        "ch = None\n"
      ],
      "metadata": {
        "id": "0dMzKa6nu5ga"
      },
      "execution_count": null,
      "outputs": []
    }
  ]
}